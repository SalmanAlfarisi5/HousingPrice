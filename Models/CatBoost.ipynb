{
 "cells": [
  {
   "cell_type": "code",
   "execution_count": 5,
   "id": "5463cb25",
   "metadata": {},
   "outputs": [
    {
     "ename": "ModuleNotFoundError",
     "evalue": "No module named 'catboost'",
     "output_type": "error",
     "traceback": [
      "\u001b[0;31m---------------------------------------------------------------------------\u001b[0m",
      "\u001b[0;31mModuleNotFoundError\u001b[0m                       Traceback (most recent call last)",
      "Cell \u001b[0;32mIn[5], line 4\u001b[0m\n\u001b[1;32m      2\u001b[0m \u001b[38;5;28;01mimport\u001b[39;00m\u001b[38;5;250m \u001b[39m\u001b[38;5;21;01mpandas\u001b[39;00m\u001b[38;5;250m \u001b[39m\u001b[38;5;28;01mas\u001b[39;00m\u001b[38;5;250m \u001b[39m\u001b[38;5;21;01mpd\u001b[39;00m\n\u001b[1;32m      3\u001b[0m \u001b[38;5;28;01mimport\u001b[39;00m\u001b[38;5;250m \u001b[39m\u001b[38;5;21;01mnumpy\u001b[39;00m\u001b[38;5;250m \u001b[39m\u001b[38;5;28;01mas\u001b[39;00m\u001b[38;5;250m \u001b[39m\u001b[38;5;21;01mnp\u001b[39;00m\n\u001b[0;32m----> 4\u001b[0m \u001b[38;5;28;01mfrom\u001b[39;00m\u001b[38;5;250m \u001b[39m\u001b[38;5;21;01mcatboost\u001b[39;00m\u001b[38;5;250m \u001b[39m\u001b[38;5;28;01mimport\u001b[39;00m CatBoostRegressor, Pool\n\u001b[1;32m      5\u001b[0m \u001b[38;5;28;01mfrom\u001b[39;00m\u001b[38;5;250m \u001b[39m\u001b[38;5;21;01msklearn\u001b[39;00m\u001b[38;5;21;01m.\u001b[39;00m\u001b[38;5;21;01mmodel_selection\u001b[39;00m\u001b[38;5;250m \u001b[39m\u001b[38;5;28;01mimport\u001b[39;00m train_test_split\n\u001b[1;32m      6\u001b[0m \u001b[38;5;28;01mfrom\u001b[39;00m\u001b[38;5;250m \u001b[39m\u001b[38;5;21;01msklearn\u001b[39;00m\u001b[38;5;21;01m.\u001b[39;00m\u001b[38;5;21;01mmetrics\u001b[39;00m\u001b[38;5;250m \u001b[39m\u001b[38;5;28;01mimport\u001b[39;00m mean_squared_error, r2_score\n",
      "\u001b[0;31mModuleNotFoundError\u001b[0m: No module named 'catboost'"
     ]
    }
   ],
   "source": [
    "# Importing necessary libraries\n",
    "import pandas as pd\n",
    "import numpy as np\n",
    "from catboost import CatBoostRegressor, Pool\n",
    "from sklearn.model_selection import train_test_split\n",
    "from sklearn.metrics import mean_squared_error, r2_score"
   ]
  },
  {
   "cell_type": "code",
   "execution_count": 2,
   "id": "ca3c179c",
   "metadata": {},
   "outputs": [],
   "source": [
    "schema = {\n",
    "    # --- strings ------------------------------------------------------------\n",
    "    \"location\":      \"string\",\n",
    "    \"type\":          \"string\",\n",
    "    \"block\":         \"string\",\n",
    "    \"street\":        \"string\",\n",
    "    \"storey_range\":  \"string\",   \n",
    "    \"flat_model\":     \"string\",\n",
    "\n",
    "    # --- numerics -----------------------------------------------------------\n",
    "    \"area_sqm\":      \"float64\",\n",
    "    \"price\":         \"float64\", \n",
    "    \"commence_date\": \"Int64\",   \n",
    "    \"Quantity_Index\":\"Int64\",\n",
    "}"
   ]
  },
  {
   "cell_type": "code",
   "execution_count": 3,
   "id": "f371cacc",
   "metadata": {},
   "outputs": [
    {
     "data": {
      "text/plain": [
       "date             datetime64[ns]\n",
       "location         string[python]\n",
       "type             string[python]\n",
       "block            string[python]\n",
       "street           string[python]\n",
       "storey_range     string[python]\n",
       "area_sqm                float64\n",
       "flat_model       string[python]\n",
       "commence_date             Int64\n",
       "Quality_Index             int64\n",
       "price                   float64\n",
       "dtype: object"
      ]
     },
     "execution_count": 3,
     "metadata": {},
     "output_type": "execute_result"
    }
   ],
   "source": [
    "data = pd.read_csv(\"../data.csv\", parse_dates=[\"date\"], dtype=schema, usecols=range(11))\n",
    "data.dtypes"
   ]
  },
  {
   "cell_type": "code",
   "execution_count": 4,
   "id": "98f34a34",
   "metadata": {},
   "outputs": [
    {
     "data": {
      "text/html": [
       "<div>\n",
       "<style scoped>\n",
       "    .dataframe tbody tr th:only-of-type {\n",
       "        vertical-align: middle;\n",
       "    }\n",
       "\n",
       "    .dataframe tbody tr th {\n",
       "        vertical-align: top;\n",
       "    }\n",
       "\n",
       "    .dataframe thead th {\n",
       "        text-align: right;\n",
       "    }\n",
       "</style>\n",
       "<table border=\"1\" class=\"dataframe\">\n",
       "  <thead>\n",
       "    <tr style=\"text-align: right;\">\n",
       "      <th></th>\n",
       "      <th>date</th>\n",
       "      <th>location</th>\n",
       "      <th>type</th>\n",
       "      <th>block</th>\n",
       "      <th>street</th>\n",
       "      <th>storey_range</th>\n",
       "      <th>area_sqm</th>\n",
       "      <th>flat_model</th>\n",
       "      <th>commence_date</th>\n",
       "      <th>Quality_Index</th>\n",
       "      <th>price</th>\n",
       "    </tr>\n",
       "  </thead>\n",
       "  <tbody>\n",
       "    <tr>\n",
       "      <th>0</th>\n",
       "      <td>2000-01-01</td>\n",
       "      <td>Austin</td>\n",
       "      <td>3 ROOM</td>\n",
       "      <td>170</td>\n",
       "      <td>Governors Row</td>\n",
       "      <td>07 TO 09</td>\n",
       "      <td>69.0</td>\n",
       "      <td>D</td>\n",
       "      <td>1986</td>\n",
       "      <td>20</td>\n",
       "      <td>147000.0</td>\n",
       "    </tr>\n",
       "    <tr>\n",
       "      <th>1</th>\n",
       "      <td>2000-01-01</td>\n",
       "      <td>Austin</td>\n",
       "      <td>3 ROOM</td>\n",
       "      <td>174</td>\n",
       "      <td>Governors Row</td>\n",
       "      <td>04 TO 06</td>\n",
       "      <td>61.0</td>\n",
       "      <td>D</td>\n",
       "      <td>1986</td>\n",
       "      <td>16</td>\n",
       "      <td>144000.0</td>\n",
       "    </tr>\n",
       "    <tr>\n",
       "      <th>2</th>\n",
       "      <td>2000-01-01</td>\n",
       "      <td>Austin</td>\n",
       "      <td>3 ROOM</td>\n",
       "      <td>216</td>\n",
       "      <td>Stonleigh Pl</td>\n",
       "      <td>07 TO 09</td>\n",
       "      <td>73.0</td>\n",
       "      <td>K</td>\n",
       "      <td>&lt;NA&gt;</td>\n",
       "      <td>17</td>\n",
       "      <td>159000.0</td>\n",
       "    </tr>\n",
       "    <tr>\n",
       "      <th>3</th>\n",
       "      <td>2000-01-01</td>\n",
       "      <td>Austin</td>\n",
       "      <td>3 ROOM</td>\n",
       "      <td>215</td>\n",
       "      <td>Stonleigh Pl</td>\n",
       "      <td>07 TO 09</td>\n",
       "      <td>73.0</td>\n",
       "      <td>K</td>\n",
       "      <td>1976</td>\n",
       "      <td>9</td>\n",
       "      <td>167000.0</td>\n",
       "    </tr>\n",
       "    <tr>\n",
       "      <th>4</th>\n",
       "      <td>2000-01-01</td>\n",
       "      <td>Austin</td>\n",
       "      <td>3 ROOM</td>\n",
       "      <td>218</td>\n",
       "      <td>Stonleigh Pl</td>\n",
       "      <td>07 TO 09</td>\n",
       "      <td>67.0</td>\n",
       "      <td>K</td>\n",
       "      <td>1976</td>\n",
       "      <td>17</td>\n",
       "      <td>163000.0</td>\n",
       "    </tr>\n",
       "  </tbody>\n",
       "</table>\n",
       "</div>"
      ],
      "text/plain": [
       "        date location    type block         street storey_range  area_sqm  \\\n",
       "0 2000-01-01   Austin  3 ROOM   170  Governors Row     07 TO 09      69.0   \n",
       "1 2000-01-01   Austin  3 ROOM   174  Governors Row     04 TO 06      61.0   \n",
       "2 2000-01-01   Austin  3 ROOM   216   Stonleigh Pl     07 TO 09      73.0   \n",
       "3 2000-01-01   Austin  3 ROOM   215   Stonleigh Pl     07 TO 09      73.0   \n",
       "4 2000-01-01   Austin  3 ROOM   218   Stonleigh Pl     07 TO 09      67.0   \n",
       "\n",
       "  flat_model  commence_date  Quality_Index     price  \n",
       "0          D           1986             20  147000.0  \n",
       "1          D           1986             16  144000.0  \n",
       "2          K           <NA>             17  159000.0  \n",
       "3          K           1976              9  167000.0  \n",
       "4          K           1976             17  163000.0  "
      ]
     },
     "execution_count": 4,
     "metadata": {},
     "output_type": "execute_result"
    }
   ],
   "source": [
    "data.head()"
   ]
  }
 ],
 "metadata": {
  "kernelspec": {
   "display_name": "GPU",
   "language": "python",
   "name": "python3"
  },
  "language_info": {
   "codemirror_mode": {
    "name": "ipython",
    "version": 3
   },
   "file_extension": ".py",
   "mimetype": "text/x-python",
   "name": "python",
   "nbconvert_exporter": "python",
   "pygments_lexer": "ipython3",
   "version": "3.10.16"
  }
 },
 "nbformat": 4,
 "nbformat_minor": 5
}
